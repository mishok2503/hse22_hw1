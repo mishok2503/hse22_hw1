{
 "cells": [
  {
   "cell_type": "code",
   "execution_count": 6,
   "id": "1fa92a8c",
   "metadata": {},
   "outputs": [],
   "source": [
    "import re"
   ]
  },
  {
   "cell_type": "code",
   "execution_count": 75,
   "id": "6e5b9771",
   "metadata": {},
   "outputs": [],
   "source": [
    "def lens(name):\n",
    "    c, ans = 0, []\n",
    "    name = \"data/\" + name\n",
    "    with open(name, 'r') as file:\n",
    "        for line in file:\n",
    "            if line[0] == '>':\n",
    "                ans.append(int(re.findall(\"\\d+\", line)[1]))\n",
    "                c += 1\n",
    "    ans.sort(reverse = True)\n",
    "    s, n50 = 0, 0\n",
    "    for i in ans:\n",
    "        s += i\n",
    "        if s * 2 >= sum(ans):\n",
    "            n50 = i\n",
    "            break\n",
    "    print(\"\\tcount:\", c)\n",
    "    print(\"\\tlength:\", sum(ans))\n",
    "    print(\"\\tmax length:\", max(ans))\n",
    "    print(\"\\tN50:\", n50)"
   ]
  },
  {
   "cell_type": "code",
   "execution_count": 76,
   "id": "c9a83bce",
   "metadata": {},
   "outputs": [],
   "source": [
    "def max_sequanse(name, s):\n",
    "    ans, name = \"\", \"data/\" + name\n",
    "    with open(name, 'r') as file:\n",
    "        cur = \"\"\n",
    "        for line in file:\n",
    "            if line[0] == '>':\n",
    "                if len(cur) > len(ans):\n",
    "                    ans = cur\n",
    "                cur = \"\"\n",
    "            else:\n",
    "                cur += line.strip()\n",
    "        ans = cur_seq if len(cur) > len(ans) else ans\n",
    "    print(\"\\tgap count\", s, \"trim:\", ans.count('NNNN'))\n",
    "    print(\"\\tgap length\", s, \"trim:\", ans.count('N'))"
   ]
  },
  {
   "cell_type": "markdown",
   "id": "ac6e8bae",
   "metadata": {},
   "source": [
    "# основная часть"
   ]
  },
  {
   "cell_type": "code",
   "execution_count": 80,
   "id": "814095cc",
   "metadata": {},
   "outputs": [
    {
     "name": "stdout",
     "output_type": "stream",
     "text": [
      "contigs: \n",
      "\tcount: 621\n",
      "\tlength: 3924840\n",
      "\tmax length: 179307\n",
      "\tN50: 47611\n"
     ]
    }
   ],
   "source": [
    "print(\"contigs: \")\n",
    "lens(\"base/contig.fasta\")"
   ]
  },
  {
   "cell_type": "code",
   "execution_count": 81,
   "id": "5c0b4807",
   "metadata": {},
   "outputs": [
    {
     "name": "stdout",
     "output_type": "stream",
     "text": [
      "scaffolds: \n",
      "\tcount: 69\n",
      "\tlength: 3875471\n",
      "\tmax length: 3831086\n",
      "\tN50: 3831086\n",
      "\tgap count before trim: 1515\n",
      "\tgap length before trim: 6162\n",
      "\tgap count after trim: 620\n",
      "\tgap length after trim: 2505\n"
     ]
    }
   ],
   "source": [
    "print(\"scaffolds: \")\n",
    "lens(\"base/scaffolds.fasta\")\n",
    "max_sequanse(\"base/scaffolds.fasta\", \"before\")\n",
    "max_sequanse(\"base/gapClosed.fasta\", \"after\")"
   ]
  },
  {
   "cell_type": "markdown",
   "id": "6b520595",
   "metadata": {},
   "source": [
    "# Бонус"
   ]
  },
  {
   "cell_type": "code",
   "execution_count": 83,
   "id": "c6436b7b",
   "metadata": {},
   "outputs": [
    {
     "name": "stdout",
     "output_type": "stream",
     "text": [
      "contigs: \n",
      "\tcount: 1276\n",
      "\tlength: 3913890\n",
      "\tmax length: 187087\n",
      "\tN50: 64093\n"
     ]
    }
   ],
   "source": [
    "print(\"contigs: \")\n",
    "lens(\"bonus/contig.fasta\")"
   ]
  },
  {
   "cell_type": "code",
   "execution_count": 87,
   "id": "d13fbfc3",
   "metadata": {},
   "outputs": [
    {
     "name": "stdout",
     "output_type": "stream",
     "text": [
      "scaffolds: \n",
      "\tcount: 156\n",
      "\tlength: 3853897\n",
      "\tmax length: 1893198\n",
      "\tN50: 892403\n",
      "\tgap count before trim: 1391\n",
      "\tgap length before trim: 5655\n",
      "\tgap count after trim: 1001\n",
      "\tgap length after trim: 4030\n"
     ]
    }
   ],
   "source": [
    "print(\"scaffolds: \")\n",
    "lens(\"bonus/scaffold.fasta\")\n",
    "max_sequanse(\"bonus/scaffold.fasta\", \"before\")\n",
    "max_sequanse(\"bonus/gapClosed.fasta\", \"after\")"
   ]
  },
  {
   "cell_type": "code",
   "execution_count": null,
   "id": "8b2cbab5",
   "metadata": {},
   "outputs": [],
   "source": []
  }
 ],
 "metadata": {
  "kernelspec": {
   "display_name": "Python 3 (ipykernel)",
   "language": "python",
   "name": "python3"
  },
  "language_info": {
   "codemirror_mode": {
    "name": "ipython",
    "version": 3
   },
   "file_extension": ".py",
   "mimetype": "text/x-python",
   "name": "python",
   "nbconvert_exporter": "python",
   "pygments_lexer": "ipython3",
   "version": "3.9.12"
  }
 },
 "nbformat": 4,
 "nbformat_minor": 5
}
